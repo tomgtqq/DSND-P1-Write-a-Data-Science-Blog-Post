{
 "cells": [
  {
   "cell_type": "markdown",
   "metadata": {},
   "source": [
    "### CRISP-DM Intro\n",
    "The data explored in the notebook is from [Stackoverflow’s 2020 Annual Developer Survey](https://insights.stackoverflow.com/survey). The CRISP-DM is known as the Cross Industry Standard Prcoess for data mining will be used to explore the data.\n",
    "\n",
    "1. Business Understanding\n",
    "2. Data Understanding\n",
    "3. Prepare Data\n",
    "4. Data Modeling\n",
    "5. Evaluate the Results\n",
    "6. Deploy\n",
    "\n",
    "### 1. Business Understanding\n",
    "I used [data](https://drive.google.com/file/d/1dfGerWeWkcyQ9GX9x20rdSGj7WtEpzBB/view) to take a closer look at three questions.\n",
    "\n",
    " - What is the percentage of women as a developer by profession?\n",
    " - What factors benefit you choose software development as a career?\n",
    " - What are the downsides to a developer's career?\n",
    "\n",
    " \n",
    "### 2. Data Understanding\n"
   ]
  },
  {
   "cell_type": "code",
   "execution_count": 1,
   "metadata": {},
   "outputs": [
    {
     "data": {
      "text/html": [
       "<div>\n",
       "<style scoped>\n",
       "    .dataframe tbody tr th:only-of-type {\n",
       "        vertical-align: middle;\n",
       "    }\n",
       "\n",
       "    .dataframe tbody tr th {\n",
       "        vertical-align: top;\n",
       "    }\n",
       "\n",
       "    .dataframe thead th {\n",
       "        text-align: right;\n",
       "    }\n",
       "</style>\n",
       "<table border=\"1\" class=\"dataframe\">\n",
       "  <thead>\n",
       "    <tr style=\"text-align: right;\">\n",
       "      <th></th>\n",
       "      <th>Respondent</th>\n",
       "      <th>MainBranch</th>\n",
       "      <th>Hobbyist</th>\n",
       "      <th>Age</th>\n",
       "      <th>Age1stCode</th>\n",
       "      <th>CompFreq</th>\n",
       "      <th>CompTotal</th>\n",
       "      <th>ConvertedComp</th>\n",
       "      <th>Country</th>\n",
       "      <th>CurrencyDesc</th>\n",
       "      <th>...</th>\n",
       "      <th>SurveyEase</th>\n",
       "      <th>SurveyLength</th>\n",
       "      <th>Trans</th>\n",
       "      <th>UndergradMajor</th>\n",
       "      <th>WebframeDesireNextYear</th>\n",
       "      <th>WebframeWorkedWith</th>\n",
       "      <th>WelcomeChange</th>\n",
       "      <th>WorkWeekHrs</th>\n",
       "      <th>YearsCode</th>\n",
       "      <th>YearsCodePro</th>\n",
       "    </tr>\n",
       "  </thead>\n",
       "  <tbody>\n",
       "    <tr>\n",
       "      <td>0</td>\n",
       "      <td>1</td>\n",
       "      <td>I am a developer by profession</td>\n",
       "      <td>Yes</td>\n",
       "      <td>NaN</td>\n",
       "      <td>13</td>\n",
       "      <td>Monthly</td>\n",
       "      <td>NaN</td>\n",
       "      <td>NaN</td>\n",
       "      <td>Germany</td>\n",
       "      <td>European Euro</td>\n",
       "      <td>...</td>\n",
       "      <td>Neither easy nor difficult</td>\n",
       "      <td>Appropriate in length</td>\n",
       "      <td>No</td>\n",
       "      <td>Computer science, computer engineering, or sof...</td>\n",
       "      <td>ASP.NET Core</td>\n",
       "      <td>ASP.NET;ASP.NET Core</td>\n",
       "      <td>Just as welcome now as I felt last year</td>\n",
       "      <td>50.0</td>\n",
       "      <td>36</td>\n",
       "      <td>27</td>\n",
       "    </tr>\n",
       "    <tr>\n",
       "      <td>1</td>\n",
       "      <td>2</td>\n",
       "      <td>I am a developer by profession</td>\n",
       "      <td>No</td>\n",
       "      <td>NaN</td>\n",
       "      <td>19</td>\n",
       "      <td>NaN</td>\n",
       "      <td>NaN</td>\n",
       "      <td>NaN</td>\n",
       "      <td>United Kingdom</td>\n",
       "      <td>Pound sterling</td>\n",
       "      <td>...</td>\n",
       "      <td>NaN</td>\n",
       "      <td>NaN</td>\n",
       "      <td>NaN</td>\n",
       "      <td>Computer science, computer engineering, or sof...</td>\n",
       "      <td>NaN</td>\n",
       "      <td>NaN</td>\n",
       "      <td>Somewhat more welcome now than last year</td>\n",
       "      <td>NaN</td>\n",
       "      <td>7</td>\n",
       "      <td>4</td>\n",
       "    </tr>\n",
       "    <tr>\n",
       "      <td>2</td>\n",
       "      <td>3</td>\n",
       "      <td>I code primarily as a hobby</td>\n",
       "      <td>Yes</td>\n",
       "      <td>NaN</td>\n",
       "      <td>15</td>\n",
       "      <td>NaN</td>\n",
       "      <td>NaN</td>\n",
       "      <td>NaN</td>\n",
       "      <td>Russian Federation</td>\n",
       "      <td>NaN</td>\n",
       "      <td>...</td>\n",
       "      <td>Neither easy nor difficult</td>\n",
       "      <td>Appropriate in length</td>\n",
       "      <td>NaN</td>\n",
       "      <td>NaN</td>\n",
       "      <td>NaN</td>\n",
       "      <td>NaN</td>\n",
       "      <td>Somewhat more welcome now than last year</td>\n",
       "      <td>NaN</td>\n",
       "      <td>4</td>\n",
       "      <td>NaN</td>\n",
       "    </tr>\n",
       "    <tr>\n",
       "      <td>3</td>\n",
       "      <td>4</td>\n",
       "      <td>I am a developer by profession</td>\n",
       "      <td>Yes</td>\n",
       "      <td>25.0</td>\n",
       "      <td>18</td>\n",
       "      <td>NaN</td>\n",
       "      <td>NaN</td>\n",
       "      <td>NaN</td>\n",
       "      <td>Albania</td>\n",
       "      <td>Albanian lek</td>\n",
       "      <td>...</td>\n",
       "      <td>NaN</td>\n",
       "      <td>NaN</td>\n",
       "      <td>No</td>\n",
       "      <td>Computer science, computer engineering, or sof...</td>\n",
       "      <td>NaN</td>\n",
       "      <td>NaN</td>\n",
       "      <td>Somewhat less welcome now than last year</td>\n",
       "      <td>40.0</td>\n",
       "      <td>7</td>\n",
       "      <td>4</td>\n",
       "    </tr>\n",
       "    <tr>\n",
       "      <td>4</td>\n",
       "      <td>5</td>\n",
       "      <td>I used to be a developer by profession, but no...</td>\n",
       "      <td>Yes</td>\n",
       "      <td>31.0</td>\n",
       "      <td>16</td>\n",
       "      <td>NaN</td>\n",
       "      <td>NaN</td>\n",
       "      <td>NaN</td>\n",
       "      <td>United States</td>\n",
       "      <td>NaN</td>\n",
       "      <td>...</td>\n",
       "      <td>Easy</td>\n",
       "      <td>Too short</td>\n",
       "      <td>No</td>\n",
       "      <td>Computer science, computer engineering, or sof...</td>\n",
       "      <td>Django;Ruby on Rails</td>\n",
       "      <td>Ruby on Rails</td>\n",
       "      <td>Just as welcome now as I felt last year</td>\n",
       "      <td>NaN</td>\n",
       "      <td>15</td>\n",
       "      <td>8</td>\n",
       "    </tr>\n",
       "  </tbody>\n",
       "</table>\n",
       "<p>5 rows × 61 columns</p>\n",
       "</div>"
      ],
      "text/plain": [
       "   Respondent                                         MainBranch Hobbyist  \\\n",
       "0           1                     I am a developer by profession      Yes   \n",
       "1           2                     I am a developer by profession       No   \n",
       "2           3                        I code primarily as a hobby      Yes   \n",
       "3           4                     I am a developer by profession      Yes   \n",
       "4           5  I used to be a developer by profession, but no...      Yes   \n",
       "\n",
       "    Age Age1stCode CompFreq  CompTotal  ConvertedComp             Country  \\\n",
       "0   NaN         13  Monthly        NaN            NaN             Germany   \n",
       "1   NaN         19      NaN        NaN            NaN      United Kingdom   \n",
       "2   NaN         15      NaN        NaN            NaN  Russian Federation   \n",
       "3  25.0         18      NaN        NaN            NaN             Albania   \n",
       "4  31.0         16      NaN        NaN            NaN       United States   \n",
       "\n",
       "     CurrencyDesc  ...                  SurveyEase           SurveyLength  \\\n",
       "0   European Euro  ...  Neither easy nor difficult  Appropriate in length   \n",
       "1  Pound sterling  ...                         NaN                    NaN   \n",
       "2             NaN  ...  Neither easy nor difficult  Appropriate in length   \n",
       "3    Albanian lek  ...                         NaN                    NaN   \n",
       "4             NaN  ...                        Easy              Too short   \n",
       "\n",
       "  Trans                                     UndergradMajor  \\\n",
       "0    No  Computer science, computer engineering, or sof...   \n",
       "1   NaN  Computer science, computer engineering, or sof...   \n",
       "2   NaN                                                NaN   \n",
       "3    No  Computer science, computer engineering, or sof...   \n",
       "4    No  Computer science, computer engineering, or sof...   \n",
       "\n",
       "  WebframeDesireNextYear    WebframeWorkedWith  \\\n",
       "0           ASP.NET Core  ASP.NET;ASP.NET Core   \n",
       "1                    NaN                   NaN   \n",
       "2                    NaN                   NaN   \n",
       "3                    NaN                   NaN   \n",
       "4   Django;Ruby on Rails         Ruby on Rails   \n",
       "\n",
       "                              WelcomeChange WorkWeekHrs YearsCode YearsCodePro  \n",
       "0   Just as welcome now as I felt last year        50.0        36           27  \n",
       "1  Somewhat more welcome now than last year         NaN         7            4  \n",
       "2  Somewhat more welcome now than last year         NaN         4          NaN  \n",
       "3  Somewhat less welcome now than last year        40.0         7            4  \n",
       "4   Just as welcome now as I felt last year         NaN        15            8  \n",
       "\n",
       "[5 rows x 61 columns]"
      ]
     },
     "execution_count": 1,
     "metadata": {},
     "output_type": "execute_result"
    }
   ],
   "source": [
    "import numpy as np\n",
    "import pandas as pd\n",
    "from collections import defaultdict\n",
    "import matplotlib.pyplot as plt\n",
    "%matplotlib inline\n",
    "\n",
    "df = pd.read_csv('./data/survey_results_public.csv')\n",
    "df.head()"
   ]
  },
  {
   "cell_type": "code",
   "execution_count": 2,
   "metadata": {},
   "outputs": [
    {
     "data": {
      "text/html": [
       "<div>\n",
       "<style scoped>\n",
       "    .dataframe tbody tr th:only-of-type {\n",
       "        vertical-align: middle;\n",
       "    }\n",
       "\n",
       "    .dataframe tbody tr th {\n",
       "        vertical-align: top;\n",
       "    }\n",
       "\n",
       "    .dataframe thead th {\n",
       "        text-align: right;\n",
       "    }\n",
       "</style>\n",
       "<table border=\"1\" class=\"dataframe\">\n",
       "  <thead>\n",
       "    <tr style=\"text-align: right;\">\n",
       "      <th></th>\n",
       "      <th>Column</th>\n",
       "      <th>QuestionText</th>\n",
       "    </tr>\n",
       "  </thead>\n",
       "  <tbody>\n",
       "    <tr>\n",
       "      <td>0</td>\n",
       "      <td>Respondent</td>\n",
       "      <td>Randomized respondent ID number (not in order ...</td>\n",
       "    </tr>\n",
       "    <tr>\n",
       "      <td>1</td>\n",
       "      <td>MainBranch</td>\n",
       "      <td>Which of the following options best describes ...</td>\n",
       "    </tr>\n",
       "    <tr>\n",
       "      <td>2</td>\n",
       "      <td>Hobbyist</td>\n",
       "      <td>Do you code as a hobby?</td>\n",
       "    </tr>\n",
       "    <tr>\n",
       "      <td>3</td>\n",
       "      <td>Age</td>\n",
       "      <td>What is your age (in years)? If you prefer not...</td>\n",
       "    </tr>\n",
       "    <tr>\n",
       "      <td>4</td>\n",
       "      <td>Age1stCode</td>\n",
       "      <td>At what age did you write your first line of c...</td>\n",
       "    </tr>\n",
       "  </tbody>\n",
       "</table>\n",
       "</div>"
      ],
      "text/plain": [
       "       Column                                       QuestionText\n",
       "0  Respondent  Randomized respondent ID number (not in order ...\n",
       "1  MainBranch  Which of the following options best describes ...\n",
       "2    Hobbyist                            Do you code as a hobby?\n",
       "3         Age  What is your age (in years)? If you prefer not...\n",
       "4  Age1stCode  At what age did you write your first line of c..."
      ]
     },
     "execution_count": 2,
     "metadata": {},
     "output_type": "execute_result"
    }
   ],
   "source": [
    "df2 = pd.read_csv('./data/survey_results_schema.csv')\n",
    "df2.head()"
   ]
  },
  {
   "cell_type": "code",
   "execution_count": 3,
   "metadata": {},
   "outputs": [
    {
     "name": "stdout",
     "output_type": "stream",
     "text": [
      "There are 64461 rows and 61 cols in the dataset.\n"
     ]
    }
   ],
   "source": [
    "num_rows = df.shape[0]\n",
    "num_cols = df.shape[1]\n",
    "print('There are {} rows and {} cols in the dataset.'.format(num_rows, num_cols))"
   ]
  },
  {
   "cell_type": "markdown",
   "metadata": {},
   "source": [
    "### 3. Prepare Data"
   ]
  },
  {
   "cell_type": "code",
   "execution_count": 4,
   "metadata": {},
   "outputs": [
    {
     "name": "stdout",
     "output_type": "stream",
     "text": [
      "I am a developer by profession                                                   0.732117\n",
      "I am a student who is learning to code                                           0.123641\n",
      "I am not primarily a developer, but I write code sometimes as part of my work    0.085354\n",
      "I code primarily as a hobby                                                      0.035898\n",
      "I used to be a developer by profession, but no longer am                         0.018352\n",
      "Name: MainBranch, dtype: float64\n"
     ]
    },
    {
     "data": {
      "image/png": "[encoded data removed]",
      "text/plain": [
       "<Figure size 720x360 with 1 Axes>"
      ]
     },
     "metadata": {
      "needs_background": "light"
     },
     "output_type": "display_data"
    }
   ],
   "source": [
    "status_vals = df.MainBranch.value_counts()\n",
    "print(status_vals/df.shape[0])\n",
    "plt.title('The professional status of developers')\n",
    "(status_vals/df.shape[0]).plot.barh(stacked=True,  figsize=(10,5));"
   ]
  },
  {
   "cell_type": "code",
   "execution_count": 5,
   "metadata": {},
   "outputs": [
    {
     "name": "stdout",
     "output_type": "stream",
     "text": [
      "There were a total of 64461 participants, of whom 47193 were developers by profession.\n"
     ]
    }
   ],
   "source": [
    "developer_df = df[df.MainBranch == 'I am a developer by profession']\n",
    "\n",
    "print('There were a total of {} participants, of whom {} were developers by profession.'\\\n",
    "      .format(df.shape[0], developer_df.shape[0]))"
   ]
  },
  {
   "cell_type": "code",
   "execution_count": 6,
   "metadata": {},
   "outputs": [
    {
     "data": {
      "text/plain": [
       "'Salary converted to annual USD salaries using the exchange rate on 2020-02-19, assuming 12 working months and 50 working weeks.'"
      ]
     },
     "execution_count": 6,
     "metadata": {},
     "output_type": "execute_result"
    }
   ],
   "source": [
    "list(df2[df2.Column == 'ConvertedComp']['QuestionText'])[0]"
   ]
  },
  {
   "cell_type": "markdown",
   "metadata": {},
   "source": [
    "### 4 Data Modeling \n",
    "#### Question 1 : What is the percentage of women as a developer by profession?"
   ]
  },
  {
   "cell_type": "code",
   "execution_count": 7,
   "metadata": {},
   "outputs": [
    {
     "name": "stdout",
     "output_type": "stream",
     "text": [
      "Man                                                            0.914689\n",
      "Woman                                                          0.072861\n",
      "Non-binary, genderqueer, or gender non-conforming              0.006943\n",
      "Man;Non-binary, genderqueer, or gender non-conforming          0.002288\n",
      "Woman;Non-binary, genderqueer, or gender non-conforming        0.001569\n",
      "Woman;Man                                                      0.001144\n",
      "Woman;Man;Non-binary, genderqueer, or gender non-conforming    0.000505\n",
      "Name: Gender, dtype: float64\n",
      "There are 7.29 percent of female developers\n"
     ]
    },
    {
     "data": {
      "image/png": "[encoded data removed]",
      "text/plain": [
       "<Figure size 432x432 with 1 Axes>"
      ]
     },
     "metadata": {},
     "output_type": "display_data"
    }
   ],
   "source": [
    "pc_gender = developer_df['Gender'].value_counts()/(developer_df.shape[0] - sum(developer_df['Gender'].isnull()))\n",
    "print(pc_gender)\n",
    "print('There are {:.2f} percent of female developers'.format(pc_gender.Woman*100))\n",
    "plt.title('The Gender percentage of developers');\n",
    "pd.Series([pc_gender.Man, pc_gender.Woman,(1-pc_gender.Man-pc_gender.Woman)], name='').plot.pie(labels=['Man', 'Woman', 'Other'], colors=['r', 'g', 'b'],\n",
    "                autopct='%.2f', fontsize=20, figsize=(6, 6));\n"
   ]
  },
  {
   "cell_type": "code",
   "execution_count": 8,
   "metadata": {},
   "outputs": [
    {
     "data": {
      "text/plain": [
       "40.67249528891347"
      ]
     },
     "execution_count": 8,
     "metadata": {},
     "output_type": "execute_result"
    }
   ],
   "source": [
    "developer_df.WorkWeekHrs.mean()"
   ]
  },
  {
   "cell_type": "code",
   "execution_count": 9,
   "metadata": {},
   "outputs": [
    {
     "data": {
      "text/plain": [
       "Once a year             0.381244\n",
       "Every few months        0.360893\n",
       "Once every few years    0.239818\n",
       "Once a decade           0.018045\n",
       "Name: NEWLearn, dtype: float64"
      ]
     },
     "execution_count": 9,
     "metadata": {},
     "output_type": "execute_result"
    }
   ],
   "source": [
    "developer_df.NEWLearn.value_counts()/(developer_df.shape[0] - sum(developer_df['NEWLearn'].isnull()))"
   ]
  },
  {
   "cell_type": "markdown",
   "metadata": {},
   "source": [
    "#### Question 2 : What does the career of a developer relate?"
   ]
  },
  {
   "cell_type": "code",
   "execution_count": 10,
   "metadata": {},
   "outputs": [
    {
     "name": "stdout",
     "output_type": "stream",
     "text": [
      "Average annual salary for developers is 102683.11\n"
     ]
    }
   ],
   "source": [
    "print('Average annual salary for developers is {:.2f}'.format(developer_df.ConvertedComp.mean()))"
   ]
  },
  {
   "cell_type": "code",
   "execution_count": 11,
   "metadata": {},
   "outputs": [
    {
     "name": "stdout",
     "output_type": "stream",
     "text": [
      "The top 10 countries:\n",
      " United States     0.201157\n",
      "India             0.129340\n",
      "United Kingdom    0.064244\n",
      "Germany           0.061202\n",
      "Canada            0.034717\n",
      "Brazil            0.030144\n",
      "France            0.030037\n",
      "Netherlands       0.021337\n",
      "Poland            0.020635\n",
      "Spain             0.019614\n",
      "Name: Country, dtype: float64\n"
     ]
    }
   ],
   "source": [
    "sur_series = (developer_df['Country'].value_counts()/(developer_df.shape[0] - sum(developer_df['Country'].isnull())))[:10]\n",
    "print('The top 10 countries:\\n {}'.format(sur_series))"
   ]
  },
  {
   "cell_type": "code",
   "execution_count": 12,
   "metadata": {},
   "outputs": [
    {
     "name": "stdout",
     "output_type": "stream",
     "text": [
      "United States     208406.016432\n",
      "United Kingdom    139932.843373\n",
      "Canada            113580.194309\n",
      "Germany            92097.020574\n",
      "Netherlands        79835.875339\n",
      "France             75682.666345\n",
      "Spain              73518.923188\n",
      "Poland             42662.584118\n",
      "India              27671.505752\n",
      "Brazil             24003.130850\n",
      "Name: ConvertedComp, dtype: float64\n"
     ]
    },
    {
     "data": {
      "image/png": "[encoded data removed]",
      "text/plain": [
       "<Figure size 432x288 with 1 Axes>"
      ]
     },
     "metadata": {
      "needs_background": "light"
     },
     "output_type": "display_data"
    }
   ],
   "source": [
    "sal_df = developer_df.groupby('Country').mean()['ConvertedComp'].dropna().sort_values(ascending=False)\n",
    "print(sal_df[sur_series.keys()].sort_values(ascending=False))\n",
    "sal_df[sur_series.keys()].sort_values(ascending=False).plot.bar();"
   ]
  },
  {
   "cell_type": "code",
   "execution_count": 13,
   "metadata": {},
   "outputs": [
    {
     "data": {
      "text/html": [
       "<div>\n",
       "<style scoped>\n",
       "    .dataframe tbody tr th:only-of-type {\n",
       "        vertical-align: middle;\n",
       "    }\n",
       "\n",
       "    .dataframe tbody tr th {\n",
       "        vertical-align: top;\n",
       "    }\n",
       "\n",
       "    .dataframe thead th {\n",
       "        text-align: right;\n",
       "    }\n",
       "</style>\n",
       "<table border=\"1\" class=\"dataframe\">\n",
       "  <thead>\n",
       "    <tr style=\"text-align: right;\">\n",
       "      <th></th>\n",
       "      <th>count</th>\n",
       "      <th>mean</th>\n",
       "      <th>std</th>\n",
       "      <th>min</th>\n",
       "      <th>25%</th>\n",
       "      <th>50%</th>\n",
       "      <th>75%</th>\n",
       "      <th>max</th>\n",
       "    </tr>\n",
       "    <tr>\n",
       "      <th>OrgSize</th>\n",
       "      <th></th>\n",
       "      <th></th>\n",
       "      <th></th>\n",
       "      <th></th>\n",
       "      <th></th>\n",
       "      <th></th>\n",
       "      <th></th>\n",
       "      <th></th>\n",
       "    </tr>\n",
       "  </thead>\n",
       "  <tbody>\n",
       "    <tr>\n",
       "      <td>1,000 to 4,999 employees</td>\n",
       "      <td>3379.0</td>\n",
       "      <td>126773.333235</td>\n",
       "      <td>261965.496839</td>\n",
       "      <td>0.0</td>\n",
       "      <td>35928.0</td>\n",
       "      <td>67000.0</td>\n",
       "      <td>111075.0</td>\n",
       "      <td>2000000.0</td>\n",
       "    </tr>\n",
       "    <tr>\n",
       "      <td>10 to 19 employees</td>\n",
       "      <td>2963.0</td>\n",
       "      <td>73728.921363</td>\n",
       "      <td>172232.414046</td>\n",
       "      <td>0.0</td>\n",
       "      <td>13746.0</td>\n",
       "      <td>37834.0</td>\n",
       "      <td>70000.0</td>\n",
       "      <td>2000000.0</td>\n",
       "    </tr>\n",
       "    <tr>\n",
       "      <td>10,000 or more employees</td>\n",
       "      <td>4234.0</td>\n",
       "      <td>143866.755786</td>\n",
       "      <td>276651.150618</td>\n",
       "      <td>0.0</td>\n",
       "      <td>40915.0</td>\n",
       "      <td>77832.0</td>\n",
       "      <td>134575.5</td>\n",
       "      <td>2000000.0</td>\n",
       "    </tr>\n",
       "    <tr>\n",
       "      <td>100 to 499 employees</td>\n",
       "      <td>6059.0</td>\n",
       "      <td>101881.174451</td>\n",
       "      <td>219512.085740</td>\n",
       "      <td>0.0</td>\n",
       "      <td>27612.0</td>\n",
       "      <td>56040.0</td>\n",
       "      <td>94138.5</td>\n",
       "      <td>2000000.0</td>\n",
       "    </tr>\n",
       "    <tr>\n",
       "      <td>2 to 9 employees</td>\n",
       "      <td>3027.0</td>\n",
       "      <td>70933.740007</td>\n",
       "      <td>171611.555837</td>\n",
       "      <td>0.0</td>\n",
       "      <td>12643.0</td>\n",
       "      <td>35028.0</td>\n",
       "      <td>66810.0</td>\n",
       "      <td>2000000.0</td>\n",
       "    </tr>\n",
       "    <tr>\n",
       "      <td>20 to 99 employees</td>\n",
       "      <td>7049.0</td>\n",
       "      <td>93927.025819</td>\n",
       "      <td>216239.126605</td>\n",
       "      <td>0.0</td>\n",
       "      <td>21620.0</td>\n",
       "      <td>48644.0</td>\n",
       "      <td>81720.0</td>\n",
       "      <td>2000000.0</td>\n",
       "    </tr>\n",
       "    <tr>\n",
       "      <td>5,000 to 9,999 employees</td>\n",
       "      <td>1203.0</td>\n",
       "      <td>119037.573566</td>\n",
       "      <td>232400.073764</td>\n",
       "      <td>0.0</td>\n",
       "      <td>35590.0</td>\n",
       "      <td>70000.0</td>\n",
       "      <td>110000.0</td>\n",
       "      <td>2000000.0</td>\n",
       "    </tr>\n",
       "    <tr>\n",
       "      <td>500 to 999 employees</td>\n",
       "      <td>2073.0</td>\n",
       "      <td>98007.010613</td>\n",
       "      <td>208178.723004</td>\n",
       "      <td>0.0</td>\n",
       "      <td>26946.0</td>\n",
       "      <td>54480.0</td>\n",
       "      <td>92000.0</td>\n",
       "      <td>2000000.0</td>\n",
       "    </tr>\n",
       "    <tr>\n",
       "      <td>Just me - I am a freelancer, sole proprietor, etc.</td>\n",
       "      <td>1131.0</td>\n",
       "      <td>82739.342175</td>\n",
       "      <td>125204.848730</td>\n",
       "      <td>0.0</td>\n",
       "      <td>14238.0</td>\n",
       "      <td>51704.0</td>\n",
       "      <td>108099.0</td>\n",
       "      <td>1000000.0</td>\n",
       "    </tr>\n",
       "  </tbody>\n",
       "</table>\n",
       "</div>"
      ],
      "text/plain": [
       "                                                     count           mean  \\\n",
       "OrgSize                                                                     \n",
       "1,000 to 4,999 employees                            3379.0  126773.333235   \n",
       "10 to 19 employees                                  2963.0   73728.921363   \n",
       "10,000 or more employees                            4234.0  143866.755786   \n",
       "100 to 499 employees                                6059.0  101881.174451   \n",
       "2 to 9 employees                                    3027.0   70933.740007   \n",
       "20 to 99 employees                                  7049.0   93927.025819   \n",
       "5,000 to 9,999 employees                            1203.0  119037.573566   \n",
       "500 to 999 employees                                2073.0   98007.010613   \n",
       "Just me - I am a freelancer, sole proprietor, etc.  1131.0   82739.342175   \n",
       "\n",
       "                                                              std  min  \\\n",
       "OrgSize                                                                  \n",
       "1,000 to 4,999 employees                            261965.496839  0.0   \n",
       "10 to 19 employees                                  172232.414046  0.0   \n",
       "10,000 or more employees                            276651.150618  0.0   \n",
       "100 to 499 employees                                219512.085740  0.0   \n",
       "2 to 9 employees                                    171611.555837  0.0   \n",
       "20 to 99 employees                                  216239.126605  0.0   \n",
       "5,000 to 9,999 employees                            232400.073764  0.0   \n",
       "500 to 999 employees                                208178.723004  0.0   \n",
       "Just me - I am a freelancer, sole proprietor, etc.  125204.848730  0.0   \n",
       "\n",
       "                                                        25%      50%  \\\n",
       "OrgSize                                                                \n",
       "1,000 to 4,999 employees                            35928.0  67000.0   \n",
       "10 to 19 employees                                  13746.0  37834.0   \n",
       "10,000 or more employees                            40915.0  77832.0   \n",
       "100 to 499 employees                                27612.0  56040.0   \n",
       "2 to 9 employees                                    12643.0  35028.0   \n",
       "20 to 99 employees                                  21620.0  48644.0   \n",
       "5,000 to 9,999 employees                            35590.0  70000.0   \n",
       "500 to 999 employees                                26946.0  54480.0   \n",
       "Just me - I am a freelancer, sole proprietor, etc.  14238.0  51704.0   \n",
       "\n",
       "                                                         75%        max  \n",
       "OrgSize                                                                  \n",
       "1,000 to 4,999 employees                            111075.0  2000000.0  \n",
       "10 to 19 employees                                   70000.0  2000000.0  \n",
       "10,000 or more employees                            134575.5  2000000.0  \n",
       "100 to 499 employees                                 94138.5  2000000.0  \n",
       "2 to 9 employees                                     66810.0  2000000.0  \n",
       "20 to 99 employees                                   81720.0  2000000.0  \n",
       "5,000 to 9,999 employees                            110000.0  2000000.0  \n",
       "500 to 999 employees                                 92000.0  2000000.0  \n",
       "Just me - I am a freelancer, sole proprietor, etc.  108099.0  1000000.0  "
      ]
     },
     "execution_count": 13,
     "metadata": {},
     "output_type": "execute_result"
    }
   ],
   "source": [
    "developer_df.groupby('OrgSize').describe()['ConvertedComp']"
   ]
  },
  {
   "cell_type": "code",
   "execution_count": 14,
   "metadata": {},
   "outputs": [
    {
     "data": {
      "text/html": [
       "<div>\n",
       "<style scoped>\n",
       "    .dataframe tbody tr th:only-of-type {\n",
       "        vertical-align: middle;\n",
       "    }\n",
       "\n",
       "    .dataframe tbody tr th {\n",
       "        vertical-align: top;\n",
       "    }\n",
       "\n",
       "    .dataframe thead th {\n",
       "        text-align: right;\n",
       "    }\n",
       "</style>\n",
       "<table border=\"1\" class=\"dataframe\">\n",
       "  <thead>\n",
       "    <tr style=\"text-align: right;\">\n",
       "      <th></th>\n",
       "      <th>count</th>\n",
       "      <th>mean</th>\n",
       "      <th>std</th>\n",
       "      <th>min</th>\n",
       "      <th>25%</th>\n",
       "      <th>50%</th>\n",
       "      <th>75%</th>\n",
       "      <th>max</th>\n",
       "    </tr>\n",
       "    <tr>\n",
       "      <th>OrgSize</th>\n",
       "      <th></th>\n",
       "      <th></th>\n",
       "      <th></th>\n",
       "      <th></th>\n",
       "      <th></th>\n",
       "      <th></th>\n",
       "      <th></th>\n",
       "      <th></th>\n",
       "    </tr>\n",
       "  </thead>\n",
       "  <tbody>\n",
       "    <tr>\n",
       "      <td>10,000 or more employees</td>\n",
       "      <td>4865.0</td>\n",
       "      <td>41.144769</td>\n",
       "      <td>17.211422</td>\n",
       "      <td>2.0</td>\n",
       "      <td>40.0</td>\n",
       "      <td>40.0</td>\n",
       "      <td>43.0</td>\n",
       "      <td>475.0</td>\n",
       "    </tr>\n",
       "    <tr>\n",
       "      <td>100 to 499 employees</td>\n",
       "      <td>7017.0</td>\n",
       "      <td>41.018293</td>\n",
       "      <td>19.866677</td>\n",
       "      <td>3.0</td>\n",
       "      <td>40.0</td>\n",
       "      <td>40.0</td>\n",
       "      <td>42.0</td>\n",
       "      <td>425.0</td>\n",
       "    </tr>\n",
       "    <tr>\n",
       "      <td>5,000 to 9,999 employees</td>\n",
       "      <td>1418.0</td>\n",
       "      <td>40.720107</td>\n",
       "      <td>18.463251</td>\n",
       "      <td>1.0</td>\n",
       "      <td>40.0</td>\n",
       "      <td>40.0</td>\n",
       "      <td>41.0</td>\n",
       "      <td>425.0</td>\n",
       "    </tr>\n",
       "    <tr>\n",
       "      <td>1,000 to 4,999 employees</td>\n",
       "      <td>3897.0</td>\n",
       "      <td>40.674391</td>\n",
       "      <td>18.152674</td>\n",
       "      <td>3.0</td>\n",
       "      <td>40.0</td>\n",
       "      <td>40.0</td>\n",
       "      <td>40.0</td>\n",
       "      <td>425.0</td>\n",
       "    </tr>\n",
       "    <tr>\n",
       "      <td>10 to 19 employees</td>\n",
       "      <td>3496.0</td>\n",
       "      <td>40.572912</td>\n",
       "      <td>18.992978</td>\n",
       "      <td>2.0</td>\n",
       "      <td>38.0</td>\n",
       "      <td>40.0</td>\n",
       "      <td>45.0</td>\n",
       "      <td>385.0</td>\n",
       "    </tr>\n",
       "    <tr>\n",
       "      <td>20 to 99 employees</td>\n",
       "      <td>8204.0</td>\n",
       "      <td>40.532460</td>\n",
       "      <td>16.036356</td>\n",
       "      <td>1.5</td>\n",
       "      <td>40.0</td>\n",
       "      <td>40.0</td>\n",
       "      <td>42.0</td>\n",
       "      <td>425.0</td>\n",
       "    </tr>\n",
       "    <tr>\n",
       "      <td>2 to 9 employees</td>\n",
       "      <td>3686.0</td>\n",
       "      <td>40.451953</td>\n",
       "      <td>17.848995</td>\n",
       "      <td>2.0</td>\n",
       "      <td>36.0</td>\n",
       "      <td>40.0</td>\n",
       "      <td>45.0</td>\n",
       "      <td>385.0</td>\n",
       "    </tr>\n",
       "    <tr>\n",
       "      <td>500 to 999 employees</td>\n",
       "      <td>2389.0</td>\n",
       "      <td>40.239879</td>\n",
       "      <td>14.275007</td>\n",
       "      <td>4.0</td>\n",
       "      <td>40.0</td>\n",
       "      <td>40.0</td>\n",
       "      <td>42.0</td>\n",
       "      <td>385.0</td>\n",
       "    </tr>\n",
       "    <tr>\n",
       "      <td>Just me - I am a freelancer, sole proprietor, etc.</td>\n",
       "      <td>1580.0</td>\n",
       "      <td>39.993861</td>\n",
       "      <td>20.823595</td>\n",
       "      <td>1.0</td>\n",
       "      <td>30.0</td>\n",
       "      <td>40.0</td>\n",
       "      <td>50.0</td>\n",
       "      <td>375.0</td>\n",
       "    </tr>\n",
       "  </tbody>\n",
       "</table>\n",
       "</div>"
      ],
      "text/plain": [
       "                                                     count       mean  \\\n",
       "OrgSize                                                                 \n",
       "10,000 or more employees                            4865.0  41.144769   \n",
       "100 to 499 employees                                7017.0  41.018293   \n",
       "5,000 to 9,999 employees                            1418.0  40.720107   \n",
       "1,000 to 4,999 employees                            3897.0  40.674391   \n",
       "10 to 19 employees                                  3496.0  40.572912   \n",
       "20 to 99 employees                                  8204.0  40.532460   \n",
       "2 to 9 employees                                    3686.0  40.451953   \n",
       "500 to 999 employees                                2389.0  40.239879   \n",
       "Just me - I am a freelancer, sole proprietor, etc.  1580.0  39.993861   \n",
       "\n",
       "                                                          std  min   25%  \\\n",
       "OrgSize                                                                    \n",
       "10,000 or more employees                            17.211422  2.0  40.0   \n",
       "100 to 499 employees                                19.866677  3.0  40.0   \n",
       "5,000 to 9,999 employees                            18.463251  1.0  40.0   \n",
       "1,000 to 4,999 employees                            18.152674  3.0  40.0   \n",
       "10 to 19 employees                                  18.992978  2.0  38.0   \n",
       "20 to 99 employees                                  16.036356  1.5  40.0   \n",
       "2 to 9 employees                                    17.848995  2.0  36.0   \n",
       "500 to 999 employees                                14.275007  4.0  40.0   \n",
       "Just me - I am a freelancer, sole proprietor, etc.  20.823595  1.0  30.0   \n",
       "\n",
       "                                                     50%   75%    max  \n",
       "OrgSize                                                                \n",
       "10,000 or more employees                            40.0  43.0  475.0  \n",
       "100 to 499 employees                                40.0  42.0  425.0  \n",
       "5,000 to 9,999 employees                            40.0  41.0  425.0  \n",
       "1,000 to 4,999 employees                            40.0  40.0  425.0  \n",
       "10 to 19 employees                                  40.0  45.0  385.0  \n",
       "20 to 99 employees                                  40.0  42.0  425.0  \n",
       "2 to 9 employees                                    40.0  45.0  385.0  \n",
       "500 to 999 employees                                40.0  42.0  385.0  \n",
       "Just me - I am a freelancer, sole proprietor, etc.  40.0  50.0  375.0  "
      ]
     },
     "execution_count": 14,
     "metadata": {},
     "output_type": "execute_result"
    }
   ],
   "source": [
    "developer_df.groupby('OrgSize').describe()['WorkWeekHrs'].sort_values(by='mean',ascending=False)"
   ]
  },
  {
   "cell_type": "code",
   "execution_count": 15,
   "metadata": {},
   "outputs": [
    {
     "name": "stdout",
     "output_type": "stream",
     "text": [
      "{'Wanting to share accomplishments with a wider network', 'Trouble with leadership at my company', 'Better compensation', 'Curious about other opportunities', 'Growth or leadership opportunities', 'Just because', 'Wanting to work with new technologies', 'Trouble with my teammates', 'Looking to relocate', 'Better work/life balance', 'Trouble with my direct manager', 'Having a bad day (or week or month) at work'}\n"
     ]
    }
   ],
   "source": [
    "possible_vals = set(np.concatenate(df.NEWJobHunt.dropna().str.split(';').to_numpy()).ravel().tolist())\n",
    "print(possible_vals)"
   ]
  },
  {
   "cell_type": "code",
   "execution_count": 16,
   "metadata": {},
   "outputs": [],
   "source": [
    "def total_count(df, col1, col2, look_for):\n",
    "    '''\n",
    "    INPUT:\n",
    "    df - the pandas dataframe you want to search\n",
    "    col1 - the column name you want to look through\n",
    "    col2 - the column you want to count values from\n",
    "    look_for - a list of strings you want to search for in each row of df[col]\n",
    "\n",
    "    OUTPUT:\n",
    "    new_df - a dataframe of each look_for with the count of how often it shows up\n",
    "    '''\n",
    "    new_df = defaultdict(int)\n",
    "    #loop through list of ed types\n",
    "    for val in look_for:\n",
    "        #loop through rows\n",
    "        for idx in range(df.shape[0]):\n",
    "            #if the ed type is in the row add 1\n",
    "            if val in df[col1][idx]:\n",
    "                new_df[val] += int(df[col2][idx])\n",
    "    new_df = pd.DataFrame(pd.Series(new_df)).reset_index()\n",
    "    new_df.columns = [col1, col2]\n",
    "    new_df.sort_values('count', ascending=False, inplace=True)\n",
    "    return new_df"
   ]
  },
  {
   "cell_type": "code",
   "execution_count": 17,
   "metadata": {},
   "outputs": [
    {
     "data": {
      "image/png": "[encoded data removed]",
      "text/plain": [
       "<Figure size 432x288 with 1 Axes>"
      ]
     },
     "metadata": {
      "needs_background": "light"
     },
     "output_type": "display_data"
    },
    {
     "data": {
      "text/html": [
       "<div>\n",
       "<style scoped>\n",
       "    .dataframe tbody tr th:only-of-type {\n",
       "        vertical-align: middle;\n",
       "    }\n",
       "\n",
       "    .dataframe tbody tr th {\n",
       "        vertical-align: top;\n",
       "    }\n",
       "\n",
       "    .dataframe thead th {\n",
       "        text-align: right;\n",
       "    }\n",
       "</style>\n",
       "<table border=\"1\" class=\"dataframe\">\n",
       "  <thead>\n",
       "    <tr style=\"text-align: right;\">\n",
       "      <th></th>\n",
       "      <th>count</th>\n",
       "    </tr>\n",
       "    <tr>\n",
       "      <th>apply</th>\n",
       "      <th></th>\n",
       "    </tr>\n",
       "  </thead>\n",
       "  <tbody>\n",
       "    <tr>\n",
       "      <td>Better compensation</td>\n",
       "      <td>0.170001</td>\n",
       "    </tr>\n",
       "    <tr>\n",
       "      <td>Wanting to work with new technologies</td>\n",
       "      <td>0.142220</td>\n",
       "    </tr>\n",
       "    <tr>\n",
       "      <td>Curious about other opportunities</td>\n",
       "      <td>0.138870</td>\n",
       "    </tr>\n",
       "    <tr>\n",
       "      <td>Growth or leadership opportunities</td>\n",
       "      <td>0.128663</td>\n",
       "    </tr>\n",
       "    <tr>\n",
       "      <td>Better work/life balance</td>\n",
       "      <td>0.117284</td>\n",
       "    </tr>\n",
       "    <tr>\n",
       "      <td>Trouble with leadership at my company</td>\n",
       "      <td>0.065119</td>\n",
       "    </tr>\n",
       "    <tr>\n",
       "      <td>Looking to relocate</td>\n",
       "      <td>0.063883</td>\n",
       "    </tr>\n",
       "    <tr>\n",
       "      <td>Having a bad day (or week or month) at work</td>\n",
       "      <td>0.049303</td>\n",
       "    </tr>\n",
       "    <tr>\n",
       "      <td>Trouble with my direct manager</td>\n",
       "      <td>0.041332</td>\n",
       "    </tr>\n",
       "    <tr>\n",
       "      <td>Just because</td>\n",
       "      <td>0.029965</td>\n",
       "    </tr>\n",
       "    <tr>\n",
       "      <td>Trouble with my teammates</td>\n",
       "      <td>0.028338</td>\n",
       "    </tr>\n",
       "    <tr>\n",
       "      <td>Wanting to share accomplishments with a wider network</td>\n",
       "      <td>0.025022</td>\n",
       "    </tr>\n",
       "  </tbody>\n",
       "</table>\n",
       "</div>"
      ],
      "text/plain": [
       "                                                       count\n",
       "apply                                                       \n",
       "Better compensation                                 0.170001\n",
       "Wanting to work with new technologies               0.142220\n",
       "Curious about other opportunities                   0.138870\n",
       "Growth or leadership opportunities                  0.128663\n",
       "Better work/life balance                            0.117284\n",
       "Trouble with leadership at my company               0.065119\n",
       "Looking to relocate                                 0.063883\n",
       "Having a bad day (or week or month) at work         0.049303\n",
       "Trouble with my direct manager                      0.041332\n",
       "Just because                                        0.029965\n",
       "Trouble with my teammates                           0.028338\n",
       "Wanting to share accomplishments with a wider n...  0.025022"
      ]
     },
     "execution_count": 17,
     "metadata": {},
     "output_type": "execute_result"
    }
   ],
   "source": [
    "def clean_and_plot(df, title='What drives you to look for a new job?', plot=True):\n",
    "    '''\n",
    "    INPUT \n",
    "        df - a dataframe holding the CousinEducation column\n",
    "        title - string the title of your plot\n",
    "        axis - axis object\n",
    "        plot - bool providing whether or not you want a plot back\n",
    "        \n",
    "    OUTPUT\n",
    "        study_df - a dataframe with the count of how many individuals\n",
    "        Displays a plot of pretty things related to the CousinEducation column.\n",
    "    '''\n",
    "    jobhunt = df['NEWJobHunt'].value_counts().reset_index()\n",
    "    jobhunt.rename(columns={'index': 'apply', 'NEWJobHunt': 'count'}, inplace=True)\n",
    "    jobhunt_df = total_count(jobhunt, 'apply', 'count', possible_vals)\n",
    "\n",
    "    jobhunt_df.set_index('apply', inplace=True)\n",
    "    if plot:\n",
    "        (jobhunt_df/jobhunt_df.sum()).plot(kind='bar', legend=None);\n",
    "        plt.title(title);\n",
    "        plt.show()\n",
    "    props_jobhunt_df = jobhunt_df/jobhunt_df.sum()\n",
    "    return props_jobhunt_df\n",
    "    \n",
    "props_df = clean_and_plot(df)\n",
    "props_df"
   ]
  },
  {
   "cell_type": "markdown",
   "metadata": {},
   "source": [
    "#### Question 3 : What are the downsides to a developer's career?"
   ]
  },
  {
   "cell_type": "code",
   "execution_count": 37,
   "metadata": {},
   "outputs": [
    {
     "data": {
      "text/html": [
       "<div>\n",
       "<style scoped>\n",
       "    .dataframe tbody tr th:only-of-type {\n",
       "        vertical-align: middle;\n",
       "    }\n",
       "\n",
       "    .dataframe tbody tr th {\n",
       "        vertical-align: top;\n",
       "    }\n",
       "\n",
       "    .dataframe thead th {\n",
       "        text-align: right;\n",
       "    }\n",
       "</style>\n",
       "<table border=\"1\" class=\"dataframe\">\n",
       "  <thead>\n",
       "    <tr style=\"text-align: right;\">\n",
       "      <th></th>\n",
       "      <th>count</th>\n",
       "      <th>mean</th>\n",
       "      <th>std</th>\n",
       "      <th>min</th>\n",
       "      <th>25%</th>\n",
       "      <th>50%</th>\n",
       "      <th>75%</th>\n",
       "      <th>max</th>\n",
       "    </tr>\n",
       "    <tr>\n",
       "      <th>Employment</th>\n",
       "      <th></th>\n",
       "      <th></th>\n",
       "      <th></th>\n",
       "      <th></th>\n",
       "      <th></th>\n",
       "      <th></th>\n",
       "      <th></th>\n",
       "      <th></th>\n",
       "    </tr>\n",
       "  </thead>\n",
       "  <tbody>\n",
       "    <tr>\n",
       "      <td>Employed full-time</td>\n",
       "      <td>28652.0</td>\n",
       "      <td>31.591226</td>\n",
       "      <td>8.178326</td>\n",
       "      <td>1.0</td>\n",
       "      <td>26.0</td>\n",
       "      <td>30.0</td>\n",
       "      <td>35.00</td>\n",
       "      <td>279.0</td>\n",
       "    </tr>\n",
       "    <tr>\n",
       "      <td>Employed part-time</td>\n",
       "      <td>1017.0</td>\n",
       "      <td>27.467060</td>\n",
       "      <td>8.513257</td>\n",
       "      <td>15.0</td>\n",
       "      <td>22.0</td>\n",
       "      <td>25.0</td>\n",
       "      <td>31.00</td>\n",
       "      <td>72.0</td>\n",
       "    </tr>\n",
       "    <tr>\n",
       "      <td>Independent contractor, freelancer, or self-employed</td>\n",
       "      <td>3275.0</td>\n",
       "      <td>35.598168</td>\n",
       "      <td>10.861110</td>\n",
       "      <td>13.0</td>\n",
       "      <td>28.0</td>\n",
       "      <td>34.0</td>\n",
       "      <td>41.00</td>\n",
       "      <td>99.0</td>\n",
       "    </tr>\n",
       "    <tr>\n",
       "      <td>Not employed, and not looking for work</td>\n",
       "      <td>42.0</td>\n",
       "      <td>35.642857</td>\n",
       "      <td>11.913963</td>\n",
       "      <td>18.0</td>\n",
       "      <td>27.0</td>\n",
       "      <td>33.5</td>\n",
       "      <td>44.75</td>\n",
       "      <td>64.0</td>\n",
       "    </tr>\n",
       "    <tr>\n",
       "      <td>Not employed, but looking for work</td>\n",
       "      <td>671.0</td>\n",
       "      <td>30.324143</td>\n",
       "      <td>9.441631</td>\n",
       "      <td>15.0</td>\n",
       "      <td>24.0</td>\n",
       "      <td>27.0</td>\n",
       "      <td>34.00</td>\n",
       "      <td>73.0</td>\n",
       "    </tr>\n",
       "    <tr>\n",
       "      <td>Retired</td>\n",
       "      <td>33.0</td>\n",
       "      <td>64.848485</td>\n",
       "      <td>9.175787</td>\n",
       "      <td>46.0</td>\n",
       "      <td>60.0</td>\n",
       "      <td>65.0</td>\n",
       "      <td>69.00</td>\n",
       "      <td>83.0</td>\n",
       "    </tr>\n",
       "    <tr>\n",
       "      <td>Student</td>\n",
       "      <td>607.0</td>\n",
       "      <td>22.630478</td>\n",
       "      <td>3.958720</td>\n",
       "      <td>10.0</td>\n",
       "      <td>20.0</td>\n",
       "      <td>22.0</td>\n",
       "      <td>24.00</td>\n",
       "      <td>69.0</td>\n",
       "    </tr>\n",
       "  </tbody>\n",
       "</table>\n",
       "</div>"
      ],
      "text/plain": [
       "                                                      count       mean  \\\n",
       "Employment                                                               \n",
       "Employed full-time                                  28652.0  31.591226   \n",
       "Employed part-time                                   1017.0  27.467060   \n",
       "Independent contractor, freelancer, or self-emp...   3275.0  35.598168   \n",
       "Not employed, and not looking for work                 42.0  35.642857   \n",
       "Not employed, but looking for work                    671.0  30.324143   \n",
       "Retired                                                33.0  64.848485   \n",
       "Student                                               607.0  22.630478   \n",
       "\n",
       "                                                          std   min   25%  \\\n",
       "Employment                                                                  \n",
       "Employed full-time                                   8.178326   1.0  26.0   \n",
       "Employed part-time                                   8.513257  15.0  22.0   \n",
       "Independent contractor, freelancer, or self-emp...  10.861110  13.0  28.0   \n",
       "Not employed, and not looking for work              11.913963  18.0  27.0   \n",
       "Not employed, but looking for work                   9.441631  15.0  24.0   \n",
       "Retired                                              9.175787  46.0  60.0   \n",
       "Student                                              3.958720  10.0  20.0   \n",
       "\n",
       "                                                     50%    75%    max  \n",
       "Employment                                                              \n",
       "Employed full-time                                  30.0  35.00  279.0  \n",
       "Employed part-time                                  25.0  31.00   72.0  \n",
       "Independent contractor, freelancer, or self-emp...  34.0  41.00   99.0  \n",
       "Not employed, and not looking for work              33.5  44.75   64.0  \n",
       "Not employed, but looking for work                  27.0  34.00   73.0  \n",
       "Retired                                             65.0  69.00   83.0  \n",
       "Student                                             22.0  24.00   69.0  "
      ]
     },
     "execution_count": 37,
     "metadata": {},
     "output_type": "execute_result"
    }
   ],
   "source": [
    "developer_df.groupby('Employment').describe()['Age']"
   ]
  },
  {
   "cell_type": "markdown",
   "metadata": {},
   "source": [
    "In the Independent contractor, freelancer, or self-employed, Not employed, and Not looking for work, the average age is 35.64. The average age in Employed full-time is 31.59, meaning the prime age for engineers is between 31 to 32 years old."
   ]
  },
  {
   "cell_type": "code",
   "execution_count": 38,
   "metadata": {},
   "outputs": [
    {
     "data": {
      "text/html": [
       "<div>\n",
       "<style scoped>\n",
       "    .dataframe tbody tr th:only-of-type {\n",
       "        vertical-align: middle;\n",
       "    }\n",
       "\n",
       "    .dataframe tbody tr th {\n",
       "        vertical-align: top;\n",
       "    }\n",
       "\n",
       "    .dataframe thead th {\n",
       "        text-align: right;\n",
       "    }\n",
       "</style>\n",
       "<table border=\"1\" class=\"dataframe\">\n",
       "  <thead>\n",
       "    <tr style=\"text-align: right;\">\n",
       "      <th></th>\n",
       "      <th>count</th>\n",
       "      <th>mean</th>\n",
       "      <th>std</th>\n",
       "      <th>min</th>\n",
       "      <th>25%</th>\n",
       "      <th>50%</th>\n",
       "      <th>75%</th>\n",
       "      <th>max</th>\n",
       "    </tr>\n",
       "    <tr>\n",
       "      <th>JobSeek</th>\n",
       "      <th></th>\n",
       "      <th></th>\n",
       "      <th></th>\n",
       "      <th></th>\n",
       "      <th></th>\n",
       "      <th></th>\n",
       "      <th></th>\n",
       "      <th></th>\n",
       "    </tr>\n",
       "  </thead>\n",
       "  <tbody>\n",
       "    <tr>\n",
       "      <td>I am actively looking for a job</td>\n",
       "      <td>4937.0</td>\n",
       "      <td>30.330464</td>\n",
       "      <td>8.016843</td>\n",
       "      <td>1.0</td>\n",
       "      <td>25.0</td>\n",
       "      <td>28.0</td>\n",
       "      <td>34.0</td>\n",
       "      <td>99.0</td>\n",
       "    </tr>\n",
       "    <tr>\n",
       "      <td>I am not interested in new job opportunities</td>\n",
       "      <td>9366.0</td>\n",
       "      <td>32.712471</td>\n",
       "      <td>9.158667</td>\n",
       "      <td>1.0</td>\n",
       "      <td>26.0</td>\n",
       "      <td>31.0</td>\n",
       "      <td>37.0</td>\n",
       "      <td>99.0</td>\n",
       "    </tr>\n",
       "    <tr>\n",
       "      <td>I’m not actively looking, but I am open to new opportunities</td>\n",
       "      <td>19970.0</td>\n",
       "      <td>31.500075</td>\n",
       "      <td>8.508524</td>\n",
       "      <td>1.0</td>\n",
       "      <td>25.0</td>\n",
       "      <td>30.0</td>\n",
       "      <td>36.0</td>\n",
       "      <td>279.0</td>\n",
       "    </tr>\n",
       "  </tbody>\n",
       "</table>\n",
       "</div>"
      ],
      "text/plain": [
       "                                                      count       mean  \\\n",
       "JobSeek                                                                  \n",
       "I am actively looking for a job                      4937.0  30.330464   \n",
       "I am not interested in new job opportunities         9366.0  32.712471   \n",
       "I’m not actively looking, but I am open to new ...  19970.0  31.500075   \n",
       "\n",
       "                                                         std  min   25%   50%  \\\n",
       "JobSeek                                                                         \n",
       "I am actively looking for a job                     8.016843  1.0  25.0  28.0   \n",
       "I am not interested in new job opportunities        9.158667  1.0  26.0  31.0   \n",
       "I’m not actively looking, but I am open to new ...  8.508524  1.0  25.0  30.0   \n",
       "\n",
       "                                                     75%    max  \n",
       "JobSeek                                                          \n",
       "I am actively looking for a job                     34.0   99.0  \n",
       "I am not interested in new job opportunities        37.0   99.0  \n",
       "I’m not actively looking, but I am open to new ...  36.0  279.0  "
      ]
     },
     "execution_count": 38,
     "metadata": {},
     "output_type": "execute_result"
    }
   ],
   "source": [
    "developer_df.groupby('JobSeek').describe()['Age']"
   ]
  },
  {
   "cell_type": "markdown",
   "metadata": {},
   "source": [
    "Younger engineers are more motivated to find work"
   ]
  },
  {
   "cell_type": "code",
   "execution_count": 20,
   "metadata": {},
   "outputs": [],
   "source": [
    "import seaborn as sns\n",
    "from sklearn.linear_model import LinearRegression\n",
    "from sklearn.model_selection import train_test_split\n",
    "from sklearn.metrics import r2_score, mean_squared_error"
   ]
  },
  {
   "cell_type": "code",
   "execution_count": 21,
   "metadata": {},
   "outputs": [],
   "source": [
    "df = pd.read_csv('./data/survey_results_public.csv')"
   ]
  },
  {
   "cell_type": "code",
   "execution_count": 22,
   "metadata": {},
   "outputs": [
    {
     "data": {
      "image/png": "[encoded data removed]",
      "text/plain": [
       "<Figure size 432x288 with 2 Axes>"
      ]
     },
     "metadata": {
      "needs_background": "light"
     },
     "output_type": "display_data"
    }
   ],
   "source": [
    "sns.heatmap(df.corr(), annot=True, fmt='.2f');"
   ]
  },
  {
   "cell_type": "code",
   "execution_count": 23,
   "metadata": {},
   "outputs": [
    {
     "data": {
      "text/plain": [
       "0.5391787282232667"
      ]
     },
     "execution_count": 23,
     "metadata": {},
     "output_type": "execute_result"
    }
   ],
   "source": [
    "num_vars = df[['Age','WorkWeekHrs','ConvertedComp']]\n",
    "prop_sals = 1- num_vars['ConvertedComp'].isnull().mean()\n",
    "prop_sals"
   ]
  },
  {
   "cell_type": "code",
   "execution_count": 24,
   "metadata": {},
   "outputs": [
    {
     "data": {
      "text/plain": [
       "(34756, 3)"
      ]
     },
     "execution_count": 24,
     "metadata": {},
     "output_type": "execute_result"
    }
   ],
   "source": [
    "drop_sal_df = num_vars.dropna(subset=['ConvertedComp'], axis=0)\n",
    "drop_sal_df.shape"
   ]
  },
  {
   "cell_type": "markdown",
   "metadata": {},
   "source": [
    "I was only looking at the correlation between age and annual salary, so drop the ['ConvertedComp'] NA value."
   ]
  },
  {
   "cell_type": "code",
   "execution_count": 25,
   "metadata": {},
   "outputs": [
    {
     "data": {
      "text/plain": [
       "(30083, 3)"
      ]
     },
     "execution_count": 25,
     "metadata": {},
     "output_type": "execute_result"
    }
   ],
   "source": [
    "df_drop = drop_sal_df.dropna(axis=0)\n",
    "df_drop.shape"
   ]
  },
  {
   "cell_type": "markdown",
   "metadata": {},
   "source": [
    "When I drop all NA value , there are enough data for me to see if age relate to annual salary."
   ]
  },
  {
   "cell_type": "code",
   "execution_count": 26,
   "metadata": {},
   "outputs": [],
   "source": [
    "X = df_drop[['Age','WorkWeekHrs']]\n",
    "y = df_drop['ConvertedComp']\n",
    "\n",
    "X_train, X_test, y_train, y_test = train_test_split(X, y, test_size=.3, random_state=42)\n",
    "\n",
    "lm_model = LinearRegression(normalize=True)"
   ]
  },
  {
   "cell_type": "code",
   "execution_count": 27,
   "metadata": {},
   "outputs": [
    {
     "data": {
      "text/plain": [
       "LinearRegression(copy_X=True, fit_intercept=True, n_jobs=None, normalize=True)"
      ]
     },
     "execution_count": 27,
     "metadata": {},
     "output_type": "execute_result"
    }
   ],
   "source": [
    "lm_model.fit(X_train, y_train)"
   ]
  },
  {
   "cell_type": "code",
   "execution_count": 33,
   "metadata": {},
   "outputs": [],
   "source": [
    "#Predict using your model\n",
    "y_test_preds = lm_model.predict(X_test)\n",
    "y_train_preds = lm_model.predict(X_train)\n",
    "\n",
    "#Score using your model\n",
    "test_score = r2_score(y_test, y_test_preds)\n",
    "train_score = r2_score(y_train, y_train_preds)"
   ]
  },
  {
   "cell_type": "code",
   "execution_count": 29,
   "metadata": {},
   "outputs": [],
   "source": [
    "length_y_train= len(y_train_preds)\n",
    "length_y_test = len(y_test_preds)"
   ]
  },
  {
   "cell_type": "code",
   "execution_count": 30,
   "metadata": {},
   "outputs": [
    {
     "data": {
      "text/plain": [
       "'The r-squared score for your model was 0.012196807744460081 on 21058 values.'"
      ]
     },
     "execution_count": 30,
     "metadata": {},
     "output_type": "execute_result"
    }
   ],
   "source": [
    "\"The r-squared score for your model was {} on {} values.\".format(train_score, length_y_train)"
   ]
  },
  {
   "cell_type": "code",
   "execution_count": 31,
   "metadata": {},
   "outputs": [
    {
     "data": {
      "text/plain": [
       "'The r-squared score for your model was 0.01272694765878779 on 9025 values.'"
      ]
     },
     "execution_count": 31,
     "metadata": {},
     "output_type": "execute_result"
    }
   ],
   "source": [
    "\"The r-squared score for your model was {} on {} values.\".format(test_score, length_y_test)"
   ]
  },
  {
   "cell_type": "code",
   "execution_count": 32,
   "metadata": {},
   "outputs": [
    {
     "data": {
      "text/html": [
       "<div>\n",
       "<style scoped>\n",
       "    .dataframe tbody tr th:only-of-type {\n",
       "        vertical-align: middle;\n",
       "    }\n",
       "\n",
       "    .dataframe tbody tr th {\n",
       "        vertical-align: top;\n",
       "    }\n",
       "\n",
       "    .dataframe thead th {\n",
       "        text-align: right;\n",
       "    }\n",
       "</style>\n",
       "<table border=\"1\" class=\"dataframe\">\n",
       "  <thead>\n",
       "    <tr style=\"text-align: right;\">\n",
       "      <th></th>\n",
       "      <th>est_int</th>\n",
       "      <th>coefs</th>\n",
       "      <th>abs_coefs</th>\n",
       "    </tr>\n",
       "  </thead>\n",
       "  <tbody>\n",
       "    <tr>\n",
       "      <td>0</td>\n",
       "      <td>Age</td>\n",
       "      <td>2735.027903</td>\n",
       "      <td>2735.027903</td>\n",
       "    </tr>\n",
       "    <tr>\n",
       "      <td>1</td>\n",
       "      <td>WorkWeekHrs</td>\n",
       "      <td>375.992548</td>\n",
       "      <td>375.992548</td>\n",
       "    </tr>\n",
       "  </tbody>\n",
       "</table>\n",
       "</div>"
      ],
      "text/plain": [
       "       est_int        coefs    abs_coefs\n",
       "0          Age  2735.027903  2735.027903\n",
       "1  WorkWeekHrs   375.992548   375.992548"
      ]
     },
     "execution_count": 32,
     "metadata": {},
     "output_type": "execute_result"
    }
   ],
   "source": [
    "# look at the weight of their coefficients\n",
    "def coef_weights(coefficients, X_train):\n",
    "    '''\n",
    "    INPUT:\n",
    "    coefficients - the coefficients of the linear model \n",
    "    X_train - the training data, so the column names can be used\n",
    "    OUTPUT:\n",
    "    coefs_df - a dataframe holding the coefficient, estimate, and abs(estimate)\n",
    "    \n",
    "    Provides a dataframe that can be used to understand the most influential coefficients\n",
    "    in a linear model by providing the coefficient estimates along with the name of the \n",
    "    variable attached to the coefficient.\n",
    "    '''\n",
    "    coefs_df = pd.DataFrame()\n",
    "    coefs_df['est_int'] = X_train.columns\n",
    "    coefs_df['coefs'] = lm_model.coef_\n",
    "    coefs_df['abs_coefs'] = np.abs(lm_model.coef_)\n",
    "    coefs_df = coefs_df.sort_values('abs_coefs', ascending=False)\n",
    "    return coefs_df\n",
    "\n",
    "#Use the function\n",
    "coef_df = coef_weights(lm_model.coef_, X_train)\n",
    "\n",
    "#A quick look at the top results\n",
    "coef_df"
   ]
  },
  {
   "cell_type": "markdown",
   "metadata": {},
   "source": [
    "The age of the developer has an impact on the annual salary."
   ]
  },
  {
   "cell_type": "markdown",
   "metadata": {},
   "source": [
    "### 5.Evaluate the Results"
   ]
  },
  {
   "cell_type": "markdown",
   "metadata": {},
   "source": [
    "[The medium stroy](https://medium.com/@tomgtbst/would-you-advise-your-daughter-to-be-a-software-engineer-d7ca9e53370a)"
   ]
  },
  {
   "cell_type": "code",
   "execution_count": null,
   "metadata": {},
   "outputs": [],
   "source": []
  }
 ],
 "metadata": {
  "kernelspec": {
   "display_name": "Python 3",
   "language": "python",
   "name": "python3"
  },
  "language_info": {
   "codemirror_mode": {
    "name": "ipython",
    "version": 3
   },
   "file_extension": ".py",
   "mimetype": "text/x-python",
   "name": "python",
   "nbconvert_exporter": "python",
   "pygments_lexer": "ipython3",
   "version": "3.7.4"
  }
 },
 "nbformat": 4,
 "nbformat_minor": 2
}
